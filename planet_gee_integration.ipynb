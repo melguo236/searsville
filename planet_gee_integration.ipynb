{
 "cells": [
  {
   "cell_type": "code",
   "execution_count": 1,
   "id": "6318269c-c660-4b9b-bfce-2998a767f385",
   "metadata": {},
   "outputs": [],
   "source": [
    "import planet\n"
   ]
  },
  {
   "cell_type": "code",
   "execution_count": 2,
   "id": "63250e82-1669-42fe-bb2d-16c04ed09189",
   "metadata": {},
   "outputs": [],
   "source": [
    "aoi = {\n",
    "    \"type\":\n",
    "    \"Polygon\",\n",
    "    \"coordinates\": [[[37.40796, 122.24337], [37.40023, 122.24442],\n",
    "                     [37.39993, 122.23222], [37.40893, 122.23235],]]\n",
    "}\n",
    "\n",
    "# The item IDs we wish to order\n",
    "images = ['20180423_182027_102c']\n"
   ]
  },
  {
   "cell_type": "code",
   "execution_count": 3,
   "id": "521bb4b0-5499-42f6-9ea5-ccaba68856e6",
   "metadata": {},
   "outputs": [],
   "source": [
    "# Google Earth Engine configuration\n",
    "cloud_config = planet.order_request.google_earth_engine(\n",
    "    project='searsville-wetlands-melguo236', collection='searsvillesample')\n",
    "# Order delivery configuration\n",
    "delivery_config = planet.order_request.delivery(cloud_config=cloud_config)"
   ]
  },
  {
   "cell_type": "code",
   "execution_count": 4,
   "id": "e51357cd-3bef-45a2-a9c6-2a6ee456e3b5",
   "metadata": {},
   "outputs": [
    {
     "name": "stdout",
     "output_type": "stream",
     "text": [
      "{'name': 'order', 'products': [{'item_ids': ['20180423_182027_102c'], 'item_type': 'PSScene', 'product_bundle': 'analytic_sr_udm2'}], 'delivery': {'google_earth_engine': {'project': 'searsville-wetlands-melguo236', 'collection': 'searsvillesample'}}}\n"
     ]
    }
   ],
   "source": [
    "# Product description for the order request\n",
    "data_products = [\n",
    "    planet.order_request.product(item_ids=images,\n",
    "                                 product_bundle='analytic_sr_udm2',\n",
    "                                 item_type='PSScene')\n",
    "]\n",
    "\n",
    "# Build the order request\n",
    "order = planet.order_request.build_request(name='order',\n",
    "                                                products=data_products,\n",
    "                                                delivery=delivery_config)\n",
    "\n",
    "print(order)"
   ]
  },
  {
   "cell_type": "code",
   "execution_count": 6,
   "id": "a698836f-792d-4278-8b4b-1ab1db805130",
   "metadata": {},
   "outputs": [],
   "source": [
    "async def create_and_deliver_order(order_request, client):\n",
    "    '''Create and deliver an order.\n",
    "\n",
    "    Parameters:\n",
    "        order_request: An order request\n",
    "        client: An Order client object\n",
    "    '''\n",
    "    with planet.reporting.StateBar(state='creating') as reporter:\n",
    "        # Place an order to the Orders API\n",
    "        order = await client.create_order(order_request)\n",
    "        reporter.update(state='created', order_id=order['id'])\n",
    "        # Wait while the order is being completed\n",
    "        await client.wait(order['id'],\n",
    "                          callback=reporter.update_state,\n",
    "                          max_attempts=0)\n",
    "\n",
    "    # Grab the details of the orders\n",
    "    order_details = await client.get_order(order_id=order['id'])\n",
    "\n",
    "    return order_details"
   ]
  },
  {
   "cell_type": "code",
   "execution_count": 7,
   "id": "b4eefa00-a2f5-4b2b-9f14-4ee0caaf60c1",
   "metadata": {},
   "outputs": [
    {
     "name": "stderr",
     "output_type": "stream",
     "text": [
      "03:30 - order 3187c82b-4cdc-4e38-85c3-3fd11c5b8165 - state: success\n"
     ]
    }
   ],
   "source": [
    "async with planet.Session() as ps:\n",
    "    # The Orders API client\n",
    "    client = ps.client('orders')\n",
    "    # Create the order and deliver it to GEE\n",
    "    order_details = await create_and_deliver_order(order, client)"
   ]
  },
  {
   "cell_type": "code",
   "execution_count": 8,
   "id": "571d5aa9-cd50-4534-b189-864db1e66de4",
   "metadata": {},
   "outputs": [
    {
     "name": "stdout",
     "output_type": "stream",
     "text": [
      "{'delivery': 'success', 'expires_at': '2023-08-06T21:24:32.955Z', 'location': 'https://api.planet.com/compute/ops/download/?token=eyJhbGciOiJIUzUxMiIsInR5cCI6IkpXVCJ9.eyJleHAiOjE2OTEzNTcwNzIsInN1YiI6ImFRbkpLeTJZSFhETWpQTFo0QjdQaHRmSGN6T1BqUllZcUtrT1FMT0JEeFNHVDBOM2JRRkgwVFA4Kzkza3VWYTU2ZGI1SG9TNWNTV2NHTmIrekNibFFnPT0iLCJ0b2tlbl90eXBlIjoiZG93bmxvYWQtYXNzZXQtc3RhY2siLCJhb2kiOiIiLCJhc3NldHMiOlt7Iml0ZW1fdHlwZSI6IiIsImFzc2V0X3R5cGUiOiIiLCJpdGVtX2lkIjoiIn1dLCJ1cmwiOiJodHRwczovL3N0b3JhZ2UuZ29vZ2xlYXBpcy5jb20vY29tcHV0ZS1vcmRlcnMtbGl2ZS8yMDE4MDQyM18xODIwMjdfMTAyY18zQl9BbmFseXRpY01TX1NSLnRpZj9YLUdvb2ctQWxnb3JpdGhtPUdPT0c0LVJTQS1TSEEyNTZcdTAwMjZYLUdvb2ctQ3JlZGVudGlhbD1jb21wdXRlLWdjcy1zdmNhY2MlNDBwbGFuZXQtY29tcHV0ZS1wcm9kLmlhbS5nc2VydmljZWFjY291bnQuY29tJTJGMjAyMzA4MDUlMkZhdXRvJTJGc3RvcmFnZSUyRmdvb2c0X3JlcXVlc3RcdTAwMjZYLUdvb2ctRGF0ZT0yMDIzMDgwNVQyMTI0MzJaXHUwMDI2WC1Hb29nLUV4cGlyZXM9ODYzOTlcdTAwMjZYLUdvb2ctU2lnbmF0dXJlPTIzY2FhZjE1MGRlZTA4NGM4NTU2MmY1YzE5OTYwZjlhNTA5NTk1YmJlZjE3ZTlhODhjZmZiYmU1NTc5MzNkZjNkNGE4NjBlZjg4ZTAxMTNiZjk2MGZmOGM1MDk2ZTQyZDJlMTdmOWRjOGRmYzdhNzRhMzFhZWY5OGY2ZmE0M2Q4ZDFjODM3OWUwOTM0NTdkODcwODljMDZkMzNkYTUwOGEwYjIwNzA2NzcxYzRkZTA1MGNiODlkY2MyZTQ0YzM1NWQ5MzMxY2I3YjEzNDI4NjRhYjdlZWYxMWUxM2MyNmQ3YTkzOTM1MWI0M2VlOTJmMWU3MWU4MjFiY2NlZWRiODY5YTk0NTllZmUwZThlOTg4MGRkZWQxOTAwYWQwNDkxNTVjYWVhNTUxN2RlNzUwMmNhZjRmNDk1YzYyYjRjYzljNTBlZDFjYTQ4M2Y2ZjU5OTJjZDViNDU5NjVmNDJmZmYzYTBjOWUwZDk1ZGM2MGUwY2Y4NjlkMmU1YjZiZDY3ZTJmY2M0NTM2ZGI3MDE2NGFmMWQ5NDViOTNjZjI3ZDhjMjRhZGNmY2EyNzEwMmYxZDJjOGMzOTMyMTA1MWViYmQzYzY0YjI0NzkyMzhjNTY5NzI4Mzk4NTliY2NmNWQyNmViNjA1ZTE2OGU2NmRkYjI5YjdkODkzN2I3ZTViZmI5XHUwMDI2WC1Hb29nLVNpZ25lZEhlYWRlcnM9aG9zdCIsInNvdXJjZSI6Ik9yZGVycyBTZXJ2aWNlIn0.NYAUT_l4RCd15-lZyS7Je2heiKPNflQ1TauDyTyMA_SMzqazjeo8g2B2xRb_7wXe9swEMn_6jErJ4mvCSzg9hA', 'name': '20180423_182027_102c_3B_AnalyticMS_SR.tif'}\n"
     ]
    }
   ],
   "source": [
    "print(order_details['_links']['results'][0])\n"
   ]
  },
  {
   "cell_type": "code",
   "execution_count": null,
   "id": "99045a35-9b26-481c-8ac5-fd3d73132ed3",
   "metadata": {},
   "outputs": [],
   "source": []
  }
 ],
 "metadata": {
  "kernelspec": {
   "display_name": "Python 3 (ipykernel)",
   "language": "python",
   "name": "python3"
  },
  "language_info": {
   "codemirror_mode": {
    "name": "ipython",
    "version": 3
   },
   "file_extension": ".py",
   "mimetype": "text/x-python",
   "name": "python",
   "nbconvert_exporter": "python",
   "pygments_lexer": "ipython3",
   "version": "3.11.2"
  }
 },
 "nbformat": 4,
 "nbformat_minor": 5
}
